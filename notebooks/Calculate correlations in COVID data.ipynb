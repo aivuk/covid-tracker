{
 "cells": [
  {
   "cell_type": "code",
   "execution_count": 1,
   "id": "a2f578e6",
   "metadata": {},
   "outputs": [],
   "source": [
    "import pandas as pd\n"
   ]
  },
  {
   "cell_type": "code",
   "execution_count": 2,
   "id": "d0a9673d",
   "metadata": {},
   "outputs": [],
   "source": [
    "data = pd.read_csv('../data/latest.csv')"
   ]
  },
  {
   "cell_type": "code",
   "execution_count": 4,
   "id": "5b116cee",
   "metadata": {},
   "outputs": [
    {
     "data": {
      "text/html": [
       "<div>\n",
       "<style scoped>\n",
       "    .dataframe tbody tr th:only-of-type {\n",
       "        vertical-align: middle;\n",
       "    }\n",
       "\n",
       "    .dataframe tbody tr th {\n",
       "        vertical-align: top;\n",
       "    }\n",
       "\n",
       "    .dataframe thead th {\n",
       "        text-align: right;\n",
       "    }\n",
       "</style>\n",
       "<table border=\"1\" class=\"dataframe\">\n",
       "  <thead>\n",
       "    <tr style=\"text-align: right;\">\n",
       "      <th></th>\n",
       "      <th>iso_code</th>\n",
       "      <th>continent</th>\n",
       "      <th>location</th>\n",
       "      <th>last_updated_date</th>\n",
       "      <th>total_cases</th>\n",
       "      <th>new_cases</th>\n",
       "      <th>new_cases_smoothed</th>\n",
       "      <th>total_deaths</th>\n",
       "      <th>new_deaths</th>\n",
       "      <th>new_deaths_smoothed</th>\n",
       "      <th>...</th>\n",
       "      <th>female_smokers</th>\n",
       "      <th>male_smokers</th>\n",
       "      <th>handwashing_facilities</th>\n",
       "      <th>hospital_beds_per_thousand</th>\n",
       "      <th>life_expectancy</th>\n",
       "      <th>human_development_index</th>\n",
       "      <th>excess_mortality_cumulative_absolute</th>\n",
       "      <th>excess_mortality_cumulative</th>\n",
       "      <th>excess_mortality</th>\n",
       "      <th>excess_mortality_cumulative_per_million</th>\n",
       "    </tr>\n",
       "  </thead>\n",
       "  <tbody>\n",
       "    <tr>\n",
       "      <th>0</th>\n",
       "      <td>AFG</td>\n",
       "      <td>Asia</td>\n",
       "      <td>Afghanistan</td>\n",
       "      <td>2021-10-06</td>\n",
       "      <td>155380.0</td>\n",
       "      <td>71.0</td>\n",
       "      <td>36.000</td>\n",
       "      <td>7220.0</td>\n",
       "      <td>6.0</td>\n",
       "      <td>2.286</td>\n",
       "      <td>...</td>\n",
       "      <td>NaN</td>\n",
       "      <td>NaN</td>\n",
       "      <td>37.746</td>\n",
       "      <td>0.50</td>\n",
       "      <td>64.83</td>\n",
       "      <td>0.511</td>\n",
       "      <td>NaN</td>\n",
       "      <td>NaN</td>\n",
       "      <td>NaN</td>\n",
       "      <td>NaN</td>\n",
       "    </tr>\n",
       "    <tr>\n",
       "      <th>1</th>\n",
       "      <td>OWID_AFR</td>\n",
       "      <td>NaN</td>\n",
       "      <td>Africa</td>\n",
       "      <td>2021-10-06</td>\n",
       "      <td>8366236.0</td>\n",
       "      <td>12682.0</td>\n",
       "      <td>13364.000</td>\n",
       "      <td>212886.0</td>\n",
       "      <td>311.0</td>\n",
       "      <td>422.143</td>\n",
       "      <td>...</td>\n",
       "      <td>NaN</td>\n",
       "      <td>NaN</td>\n",
       "      <td>NaN</td>\n",
       "      <td>NaN</td>\n",
       "      <td>NaN</td>\n",
       "      <td>NaN</td>\n",
       "      <td>NaN</td>\n",
       "      <td>NaN</td>\n",
       "      <td>NaN</td>\n",
       "      <td>NaN</td>\n",
       "    </tr>\n",
       "    <tr>\n",
       "      <th>2</th>\n",
       "      <td>ALB</td>\n",
       "      <td>Europe</td>\n",
       "      <td>Albania</td>\n",
       "      <td>2021-10-06</td>\n",
       "      <td>173190.0</td>\n",
       "      <td>572.0</td>\n",
       "      <td>532.571</td>\n",
       "      <td>2734.0</td>\n",
       "      <td>9.0</td>\n",
       "      <td>7.000</td>\n",
       "      <td>...</td>\n",
       "      <td>7.1</td>\n",
       "      <td>51.2</td>\n",
       "      <td>NaN</td>\n",
       "      <td>2.89</td>\n",
       "      <td>78.57</td>\n",
       "      <td>0.795</td>\n",
       "      <td>NaN</td>\n",
       "      <td>NaN</td>\n",
       "      <td>NaN</td>\n",
       "      <td>NaN</td>\n",
       "    </tr>\n",
       "    <tr>\n",
       "      <th>3</th>\n",
       "      <td>DZA</td>\n",
       "      <td>Africa</td>\n",
       "      <td>Algeria</td>\n",
       "      <td>2021-10-06</td>\n",
       "      <td>204171.0</td>\n",
       "      <td>125.0</td>\n",
       "      <td>139.000</td>\n",
       "      <td>5838.0</td>\n",
       "      <td>7.0</td>\n",
       "      <td>4.714</td>\n",
       "      <td>...</td>\n",
       "      <td>0.7</td>\n",
       "      <td>30.4</td>\n",
       "      <td>83.741</td>\n",
       "      <td>1.90</td>\n",
       "      <td>76.88</td>\n",
       "      <td>0.748</td>\n",
       "      <td>NaN</td>\n",
       "      <td>NaN</td>\n",
       "      <td>NaN</td>\n",
       "      <td>NaN</td>\n",
       "    </tr>\n",
       "    <tr>\n",
       "      <th>4</th>\n",
       "      <td>AND</td>\n",
       "      <td>Europe</td>\n",
       "      <td>Andorra</td>\n",
       "      <td>2021-10-06</td>\n",
       "      <td>15284.0</td>\n",
       "      <td>13.0</td>\n",
       "      <td>10.714</td>\n",
       "      <td>130.0</td>\n",
       "      <td>0.0</td>\n",
       "      <td>0.000</td>\n",
       "      <td>...</td>\n",
       "      <td>29.0</td>\n",
       "      <td>37.8</td>\n",
       "      <td>NaN</td>\n",
       "      <td>NaN</td>\n",
       "      <td>83.73</td>\n",
       "      <td>0.868</td>\n",
       "      <td>NaN</td>\n",
       "      <td>NaN</td>\n",
       "      <td>NaN</td>\n",
       "      <td>NaN</td>\n",
       "    </tr>\n",
       "  </tbody>\n",
       "</table>\n",
       "<p>5 rows × 65 columns</p>\n",
       "</div>"
      ],
      "text/plain": [
       "   iso_code continent     location last_updated_date  total_cases  new_cases  \\\n",
       "0       AFG      Asia  Afghanistan        2021-10-06     155380.0       71.0   \n",
       "1  OWID_AFR       NaN       Africa        2021-10-06    8366236.0    12682.0   \n",
       "2       ALB    Europe      Albania        2021-10-06     173190.0      572.0   \n",
       "3       DZA    Africa      Algeria        2021-10-06     204171.0      125.0   \n",
       "4       AND    Europe      Andorra        2021-10-06      15284.0       13.0   \n",
       "\n",
       "   new_cases_smoothed  total_deaths  new_deaths  new_deaths_smoothed  ...  \\\n",
       "0              36.000        7220.0         6.0                2.286  ...   \n",
       "1           13364.000      212886.0       311.0              422.143  ...   \n",
       "2             532.571        2734.0         9.0                7.000  ...   \n",
       "3             139.000        5838.0         7.0                4.714  ...   \n",
       "4              10.714         130.0         0.0                0.000  ...   \n",
       "\n",
       "   female_smokers  male_smokers  handwashing_facilities  \\\n",
       "0             NaN           NaN                  37.746   \n",
       "1             NaN           NaN                     NaN   \n",
       "2             7.1          51.2                     NaN   \n",
       "3             0.7          30.4                  83.741   \n",
       "4            29.0          37.8                     NaN   \n",
       "\n",
       "   hospital_beds_per_thousand  life_expectancy  human_development_index  \\\n",
       "0                        0.50            64.83                    0.511   \n",
       "1                         NaN              NaN                      NaN   \n",
       "2                        2.89            78.57                    0.795   \n",
       "3                        1.90            76.88                    0.748   \n",
       "4                         NaN            83.73                    0.868   \n",
       "\n",
       "   excess_mortality_cumulative_absolute  excess_mortality_cumulative  \\\n",
       "0                                   NaN                          NaN   \n",
       "1                                   NaN                          NaN   \n",
       "2                                   NaN                          NaN   \n",
       "3                                   NaN                          NaN   \n",
       "4                                   NaN                          NaN   \n",
       "\n",
       "   excess_mortality  excess_mortality_cumulative_per_million  \n",
       "0               NaN                                      NaN  \n",
       "1               NaN                                      NaN  \n",
       "2               NaN                                      NaN  \n",
       "3               NaN                                      NaN  \n",
       "4               NaN                                      NaN  \n",
       "\n",
       "[5 rows x 65 columns]"
      ]
     },
     "execution_count": 4,
     "metadata": {},
     "output_type": "execute_result"
    }
   ],
   "source": [
    "data.head()"
   ]
  },
  {
   "cell_type": "code",
   "execution_count": 62,
   "id": "1a0b113f",
   "metadata": {},
   "outputs": [],
   "source": [
    "def calc_correlation(col1, col2, data):\n",
    "    data_no_na = data[~data[col1].isna() & ~data[col2].isna()]\n",
    "    return data_no_na[[col1, col2]].corr()"
   ]
  },
  {
   "cell_type": "code",
   "execution_count": 63,
   "id": "2c80003e",
   "metadata": {},
   "outputs": [
    {
     "data": {
      "text/html": [
       "<div>\n",
       "<style scoped>\n",
       "    .dataframe tbody tr th:only-of-type {\n",
       "        vertical-align: middle;\n",
       "    }\n",
       "\n",
       "    .dataframe tbody tr th {\n",
       "        vertical-align: top;\n",
       "    }\n",
       "\n",
       "    .dataframe thead th {\n",
       "        text-align: right;\n",
       "    }\n",
       "</style>\n",
       "<table border=\"1\" class=\"dataframe\">\n",
       "  <thead>\n",
       "    <tr style=\"text-align: right;\">\n",
       "      <th></th>\n",
       "      <th>gdp_per_capita</th>\n",
       "      <th>total_deaths</th>\n",
       "    </tr>\n",
       "  </thead>\n",
       "  <tbody>\n",
       "    <tr>\n",
       "      <th>gdp_per_capita</th>\n",
       "      <td>1.000000</td>\n",
       "      <td>0.008461</td>\n",
       "    </tr>\n",
       "    <tr>\n",
       "      <th>total_deaths</th>\n",
       "      <td>0.008461</td>\n",
       "      <td>1.000000</td>\n",
       "    </tr>\n",
       "  </tbody>\n",
       "</table>\n",
       "</div>"
      ],
      "text/plain": [
       "                gdp_per_capita  total_deaths\n",
       "gdp_per_capita        1.000000      0.008461\n",
       "total_deaths          0.008461      1.000000"
      ]
     },
     "execution_count": 63,
     "metadata": {},
     "output_type": "execute_result"
    }
   ],
   "source": [
    "calc_correlation('gdp_per_capita', 'total_deaths', data)"
   ]
  },
  {
   "cell_type": "code",
   "execution_count": 66,
   "id": "2973a4d0",
   "metadata": {},
   "outputs": [
    {
     "data": {
      "text/html": [
       "<div>\n",
       "<style scoped>\n",
       "    .dataframe tbody tr th:only-of-type {\n",
       "        vertical-align: middle;\n",
       "    }\n",
       "\n",
       "    .dataframe tbody tr th {\n",
       "        vertical-align: top;\n",
       "    }\n",
       "\n",
       "    .dataframe thead th {\n",
       "        text-align: right;\n",
       "    }\n",
       "</style>\n",
       "<table border=\"1\" class=\"dataframe\">\n",
       "  <thead>\n",
       "    <tr style=\"text-align: right;\">\n",
       "      <th></th>\n",
       "      <th>people_vaccinated</th>\n",
       "      <th>total_deaths</th>\n",
       "    </tr>\n",
       "  </thead>\n",
       "  <tbody>\n",
       "    <tr>\n",
       "      <th>people_vaccinated</th>\n",
       "      <td>1.000000</td>\n",
       "      <td>0.896475</td>\n",
       "    </tr>\n",
       "    <tr>\n",
       "      <th>total_deaths</th>\n",
       "      <td>0.896475</td>\n",
       "      <td>1.000000</td>\n",
       "    </tr>\n",
       "  </tbody>\n",
       "</table>\n",
       "</div>"
      ],
      "text/plain": [
       "                   people_vaccinated  total_deaths\n",
       "people_vaccinated           1.000000      0.896475\n",
       "total_deaths                0.896475      1.000000"
      ]
     },
     "execution_count": 66,
     "metadata": {},
     "output_type": "execute_result"
    }
   ],
   "source": [
    "calc_correlation('people_vaccinated', 'total_deaths', data)"
   ]
  },
  {
   "cell_type": "code",
   "execution_count": 69,
   "id": "70d221ae",
   "metadata": {},
   "outputs": [
    {
     "data": {
      "text/html": [
       "<div>\n",
       "<style scoped>\n",
       "    .dataframe tbody tr th:only-of-type {\n",
       "        vertical-align: middle;\n",
       "    }\n",
       "\n",
       "    .dataframe tbody tr th {\n",
       "        vertical-align: top;\n",
       "    }\n",
       "\n",
       "    .dataframe thead th {\n",
       "        text-align: right;\n",
       "    }\n",
       "</style>\n",
       "<table border=\"1\" class=\"dataframe\">\n",
       "  <thead>\n",
       "    <tr style=\"text-align: right;\">\n",
       "      <th></th>\n",
       "      <th>people_fully_vaccinated</th>\n",
       "      <th>total_deaths</th>\n",
       "    </tr>\n",
       "  </thead>\n",
       "  <tbody>\n",
       "    <tr>\n",
       "      <th>people_fully_vaccinated</th>\n",
       "      <td>1.000000</td>\n",
       "      <td>0.864224</td>\n",
       "    </tr>\n",
       "    <tr>\n",
       "      <th>total_deaths</th>\n",
       "      <td>0.864224</td>\n",
       "      <td>1.000000</td>\n",
       "    </tr>\n",
       "  </tbody>\n",
       "</table>\n",
       "</div>"
      ],
      "text/plain": [
       "                         people_fully_vaccinated  total_deaths\n",
       "people_fully_vaccinated                 1.000000      0.864224\n",
       "total_deaths                            0.864224      1.000000"
      ]
     },
     "execution_count": 69,
     "metadata": {},
     "output_type": "execute_result"
    }
   ],
   "source": [
    "calc_correlation('people_fully_vaccinated', 'total_deaths', data)"
   ]
  },
  {
   "cell_type": "code",
   "execution_count": 88,
   "id": "ee54f4ba",
   "metadata": {},
   "outputs": [
    {
     "data": {
      "text/plain": [
       "iso_code                                    object\n",
       "continent                                   object\n",
       "location                                    object\n",
       "last_updated_date                           object\n",
       "total_cases                                float64\n",
       "                                            ...   \n",
       "human_development_index                    float64\n",
       "excess_mortality_cumulative_absolute       float64\n",
       "excess_mortality_cumulative                float64\n",
       "excess_mortality                           float64\n",
       "excess_mortality_cumulative_per_million    float64\n",
       "Length: 65, dtype: object"
      ]
     },
     "execution_count": 88,
     "metadata": {},
     "output_type": "execute_result"
    }
   ],
   "source": [
    "data.dtypes"
   ]
  },
  {
   "cell_type": "code",
   "execution_count": 70,
   "id": "879fdab6",
   "metadata": {},
   "outputs": [],
   "source": [
    "columns_calc_corr = ['total_cases', 'new_cases', 'total_deaths', 'new_deaths', 'icu_patients', 'hosp_patients', 'total_tests', 'total_vaccinations', 'people_vaccinated', 'total_boosters', 'people_fully_vaccinated', 'population', 'median_age', 'aged_65_older', 'aged_70_older', 'gdp_per_capita', 'extreme_poverty']"
   ]
  },
  {
   "cell_type": "code",
   "execution_count": 78,
   "id": "6d94f43a",
   "metadata": {},
   "outputs": [],
   "source": [
    "corrs = {}\n",
    "\n",
    "for i,col1 in enumerate(columns_calc_corr):\n",
    "    for col2 in columns_calc_corr[i + 1:]:\n",
    "        corrs[(col1, col2)] = calc_correlation(col1, col2, data).iloc[0,1]"
   ]
  },
  {
   "cell_type": "code",
   "execution_count": 92,
   "id": "85101d0f",
   "metadata": {
    "scrolled": false
   },
   "outputs": [],
   "source": [
    "numerics = ['int16', 'int32', 'int64', 'float16', 'float32', 'float64']\n",
    "data_numeric_col = data_no_na.select_dtypes(include=numerics).columns\n"
   ]
  },
  {
   "cell_type": "code",
   "execution_count": 103,
   "id": "4e9fbf25",
   "metadata": {},
   "outputs": [],
   "source": [
    "corrs = []\n",
    "\n",
    "for i,col1 in enumerate(data_numeric_col):\n",
    "    for col2 in data_numeric_col[i + 1:]:\n",
    "        corrs += [[col1, col2, calc_correlation(col1, col2, data_no_na).iloc[0,1]]]"
   ]
  },
  {
   "cell_type": "code",
   "execution_count": 105,
   "id": "2377afae",
   "metadata": {},
   "outputs": [],
   "source": [
    "corrs_df = pd.DataFrame(corrs, columns=['col1', 'col2', 'corr'])"
   ]
  },
  {
   "cell_type": "code",
   "execution_count": 106,
   "id": "b003f844",
   "metadata": {},
   "outputs": [],
   "source": [
    "corrs_df.to_csv('latest-correlations.csv')"
   ]
  },
  {
   "cell_type": "code",
   "execution_count": null,
   "id": "a0395bb1",
   "metadata": {},
   "outputs": [],
   "source": []
  }
 ],
 "metadata": {
  "kernelspec": {
   "display_name": "Python 3 (ipykernel)",
   "language": "python",
   "name": "python3"
  },
  "language_info": {
   "codemirror_mode": {
    "name": "ipython",
    "version": 3
   },
   "file_extension": ".py",
   "mimetype": "text/x-python",
   "name": "python",
   "nbconvert_exporter": "python",
   "pygments_lexer": "ipython3",
   "version": "3.9.5"
  }
 },
 "nbformat": 4,
 "nbformat_minor": 5
}
